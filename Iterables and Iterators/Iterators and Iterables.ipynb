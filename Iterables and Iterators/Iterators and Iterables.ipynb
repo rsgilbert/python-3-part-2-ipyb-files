{
 "cells": [
  {
   "cell_type": "code",
   "execution_count": 1,
   "metadata": {},
   "outputs": [],
   "source": [
    "# Iterators and Iterables"
   ]
  },
  {
   "cell_type": "code",
   "execution_count": 2,
   "metadata": {},
   "outputs": [],
   "source": [
    "# Iterator"
   ]
  },
  {
   "cell_type": "code",
   "execution_count": 20,
   "metadata": {},
   "outputs": [],
   "source": [
    "class Villages:\n",
    "    def __init__(self):\n",
    "        self._villages = ['nansana', 'buikwe', 'nakinyuguzi']\n",
    "        self._index = 0\n",
    "    def __iter__(self):\n",
    "        return self # iterators return self here\n",
    "    def __next__(self): # iterators must impolement next\n",
    "        if self._index >= len(self._villages):\n",
    "            raise StopIteration\n",
    "        else:\n",
    "            village = self._villages[self._index]\n",
    "            self._index += 1\n",
    "            return village"
   ]
  },
  {
   "cell_type": "code",
   "execution_count": 21,
   "metadata": {},
   "outputs": [],
   "source": [
    "v = Villages()"
   ]
  },
  {
   "cell_type": "code",
   "execution_count": 22,
   "metadata": {},
   "outputs": [
    {
     "data": {
      "text/plain": [
       "__main__.Villages"
      ]
     },
     "execution_count": 22,
     "metadata": {},
     "output_type": "execute_result"
    }
   ],
   "source": [
    "type(v)"
   ]
  },
  {
   "cell_type": "code",
   "execution_count": 23,
   "metadata": {},
   "outputs": [
    {
     "data": {
      "text/plain": [
       "[(0, 'nansana'), (1, 'buikwe'), (2, 'nakinyuguzi')]"
      ]
     },
     "execution_count": 23,
     "metadata": {},
     "output_type": "execute_result"
    }
   ],
   "source": [
    "list(enumerate(v))"
   ]
  },
  {
   "cell_type": "code",
   "execution_count": 24,
   "metadata": {},
   "outputs": [
    {
     "data": {
      "text/plain": [
       "['nansana', 'buikwe', 'nakinyuguzi']"
      ]
     },
     "execution_count": 24,
     "metadata": {},
     "output_type": "execute_result"
    }
   ],
   "source": [
    "v = Villages()\n",
    "[i for i in v]"
   ]
  },
  {
   "cell_type": "code",
   "execution_count": 25,
   "metadata": {},
   "outputs": [],
   "source": [
    "class Villages:\n",
    "    def __init__(self):\n",
    "        self._villages = ['nansana', 'buikwe', 'nakinyuguzi']\n",
    "        self._index = 0\n",
    "    def __len__(self): \n",
    "        return len(self._villages)\n",
    "    \n",
    "    "
   ]
  },
  {
   "cell_type": "code",
   "execution_count": 58,
   "metadata": {},
   "outputs": [],
   "source": [
    "# The iterator Protocol\n",
    "# the iterator protocol requires that we implement two methods\n",
    "# -> __iter__\n",
    "# -> __next__\n",
    "# because the iterator implements __iter__, an iterator is also an iterable\n",
    "# indeed, an iterator is an instance of an iterable\n",
    "class VillageIterator:\n",
    "    def __init__(self, village_instance):\n",
    "        print(\"I initialised and immunized the village iterator\")\n",
    "        self._village_instance = village_instance # village object\n",
    "        self._index = 0\n",
    "    def __iter__(self):\n",
    "        print(\"__iter__ in villageIterator also called\")\n",
    "        return self # iterators return self here\n",
    "    def __next__(self): # iterators must implement next\n",
    "        print(\"I, the mr next guy was hereby imprisoned\")\n",
    "        if self._index >= len(self._village_instance):\n",
    "            raise StopIteration\n",
    "        else:\n",
    "            village = self._village_instance._villages[self._index]\n",
    "            self._index += 1\n",
    "            return village"
   ]
  },
  {
   "cell_type": "code",
   "execution_count": 59,
   "metadata": {},
   "outputs": [
    {
     "name": "stdout",
     "output_type": "stream",
     "text": [
      "Ofcourse I have to becalled, I am the Villages __INit__\n",
      "I initialised and immunized the village iterator\n"
     ]
    }
   ],
   "source": [
    "villages = Villages()\n",
    "v_iter = VillageIterator(villages)"
   ]
  },
  {
   "cell_type": "code",
   "execution_count": 60,
   "metadata": {},
   "outputs": [
    {
     "name": "stdout",
     "output_type": "stream",
     "text": [
      "__iter__ in villageIterator also called\n",
      "I, the mr next guy was hereby imprisoned\n",
      "nansana\n",
      "I, the mr next guy was hereby imprisoned\n",
      "buikwe\n",
      "I, the mr next guy was hereby imprisoned\n",
      "nakinyuguzi\n",
      "I, the mr next guy was hereby imprisoned\n"
     ]
    }
   ],
   "source": [
    "for v in v_iter:\n",
    "    print(v)"
   ]
  },
  {
   "cell_type": "code",
   "execution_count": 61,
   "metadata": {},
   "outputs": [
    {
     "name": "stdout",
     "output_type": "stream",
     "text": [
      "__iter__ in villageIterator also called\n",
      "I, the mr next guy was hereby imprisoned\n"
     ]
    }
   ],
   "source": [
    "for v in v_iter: # nothing returned because the iterator has been consumed / exhausted\n",
    "    print(v)"
   ]
  },
  {
   "cell_type": "code",
   "execution_count": 62,
   "metadata": {},
   "outputs": [
    {
     "name": "stdout",
     "output_type": "stream",
     "text": [
      "I initialised and immunized the village iterator\n",
      "__iter__ in villageIterator also called\n",
      "I, the mr next guy was hereby imprisoned\n",
      "nansana\n",
      "I, the mr next guy was hereby imprisoned\n",
      "buikwe\n",
      "I, the mr next guy was hereby imprisoned\n",
      "nakinyuguzi\n",
      "I, the mr next guy was hereby imprisoned\n"
     ]
    }
   ],
   "source": [
    "v2 = VillageIterator(villages)\n",
    "for s in v2:\n",
    "    print(s)"
   ]
  },
  {
   "cell_type": "code",
   "execution_count": 63,
   "metadata": {},
   "outputs": [
    {
     "name": "stdout",
     "output_type": "stream",
     "text": [
      "__iter__ was summoned\n",
      "I initialised and immunized the village iterator\n",
      "I, the mr next guy was hereby imprisoned\n",
      "nansana\n",
      "I, the mr next guy was hereby imprisoned\n",
      "buikwe\n",
      "I, the mr next guy was hereby imprisoned\n",
      "nakinyuguzi\n",
      "I, the mr next guy was hereby imprisoned\n"
     ]
    }
   ],
   "source": [
    "for x in villages: # CANT\n",
    "    print(x)"
   ]
  },
  {
   "cell_type": "code",
   "execution_count": 64,
   "metadata": {},
   "outputs": [],
   "source": [
    "# making Villages an iterable\n",
    "class Villages:\n",
    "    def __init__(self):\n",
    "        print(\"Ofcourse I have to becalled, I am the Villages __INit__\")\n",
    "        self._villages = ['nansana', 'buikwe', 'nakinyuguzi']\n",
    "        self._index = 0\n",
    "    def __len__(self): \n",
    "        return len(self._villages)\n",
    "    def __iter__(self): # python says, give me an iterator\n",
    "        print(\"__iter__ was summoned\")\n",
    "        return VillageIterator(self)\n",
    "    "
   ]
  },
  {
   "cell_type": "code",
   "execution_count": 65,
   "metadata": {},
   "outputs": [
    {
     "name": "stdout",
     "output_type": "stream",
     "text": [
      "Ofcourse I have to becalled, I am the Villages __INit__\n"
     ]
    }
   ],
   "source": [
    "vills = Villages()"
   ]
  },
  {
   "cell_type": "code",
   "execution_count": 66,
   "metadata": {},
   "outputs": [
    {
     "name": "stdout",
     "output_type": "stream",
     "text": [
      "__iter__ was summoned\n",
      "I initialised and immunized the village iterator\n",
      "I, the mr next guy was hereby imprisoned\n",
      "nansana\n",
      "I, the mr next guy was hereby imprisoned\n",
      "buikwe\n",
      "I, the mr next guy was hereby imprisoned\n",
      "nakinyuguzi\n",
      "I, the mr next guy was hereby imprisoned\n"
     ]
    }
   ],
   "source": [
    "for v in vills:\n",
    "    print(v)"
   ]
  },
  {
   "cell_type": "code",
   "execution_count": 67,
   "metadata": {},
   "outputs": [
    {
     "name": "stdout",
     "output_type": "stream",
     "text": [
      "__iter__ was summoned\n",
      "I initialised and immunized the village iterator\n",
      "I, the mr next guy was hereby imprisoned\n",
      "I, the mr next guy was hereby imprisoned\n",
      "I, the mr next guy was hereby imprisoned\n",
      "I, the mr next guy was hereby imprisoned\n"
     ]
    },
    {
     "data": {
      "text/plain": [
       "['NANSANA', 'BUIKWE', 'NAKINYUGUZI']"
      ]
     },
     "execution_count": 67,
     "metadata": {},
     "output_type": "execute_result"
    }
   ],
   "source": [
    "[v.upper() for v in vills] # you can call them again"
   ]
  },
  {
   "cell_type": "code",
   "execution_count": 68,
   "metadata": {},
   "outputs": [
    {
     "name": "stdout",
     "output_type": "stream",
     "text": [
      "__iter__ was summoned\n",
      "I initialised and immunized the village iterator\n",
      "__iter__ was summoned\n",
      "I initialised and immunized the village iterator\n"
     ]
    }
   ],
   "source": [
    "vill_iter1 = vills.__iter__()\n",
    "vill_iter2 = vills.__iter__()"
   ]
  },
  {
   "cell_type": "code",
   "execution_count": 69,
   "metadata": {},
   "outputs": [
    {
     "data": {
      "text/plain": [
       "False"
      ]
     },
     "execution_count": 69,
     "metadata": {},
     "output_type": "execute_result"
    }
   ],
   "source": [
    "vill_iter1 is vill_iter2"
   ]
  },
  {
   "cell_type": "code",
   "execution_count": 70,
   "metadata": {},
   "outputs": [
    {
     "data": {
      "text/plain": [
       "<__main__.VillageIterator at 0x7f89ecb9a358>"
      ]
     },
     "execution_count": 70,
     "metadata": {},
     "output_type": "execute_result"
    }
   ],
   "source": [
    "vill_iter1"
   ]
  },
  {
   "cell_type": "code",
   "execution_count": 71,
   "metadata": {},
   "outputs": [
    {
     "name": "stdout",
     "output_type": "stream",
     "text": [
      "__iter__ in villageIterator also called\n",
      "I, the mr next guy was hereby imprisoned\n",
      "I, the mr next guy was hereby imprisoned\n",
      "I, the mr next guy was hereby imprisoned\n",
      "I, the mr next guy was hereby imprisoned\n"
     ]
    },
    {
     "data": {
      "text/plain": [
       "['nansana', 'buikwe', 'nakinyuguzi']"
      ]
     },
     "execution_count": 71,
     "metadata": {},
     "output_type": "execute_result"
    }
   ],
   "source": [
    "[x for x in vill_iter1]"
   ]
  },
  {
   "cell_type": "code",
   "execution_count": 72,
   "metadata": {},
   "outputs": [
    {
     "name": "stdout",
     "output_type": "stream",
     "text": [
      "__iter__ in villageIterator also called\n",
      "I, the mr next guy was hereby imprisoned\n",
      "I, the mr next guy was hereby imprisoned\n",
      "I, the mr next guy was hereby imprisoned\n",
      "I, the mr next guy was hereby imprisoned\n"
     ]
    },
    {
     "data": {
      "text/plain": [
       "['nansana', 'buikwe', 'nakinyuguzi']"
      ]
     },
     "execution_count": 72,
     "metadata": {},
     "output_type": "execute_result"
    }
   ],
   "source": [
    "[y for y in vill_iter2]"
   ]
  },
  {
   "cell_type": "code",
   "execution_count": 97,
   "metadata": {},
   "outputs": [],
   "source": [
    "class Villages:\n",
    "    def __init__(self):\n",
    "        self._villages = ['nansana', 'buikwe', 'nakinyuguzi']\n",
    "        self._index = 0\n",
    "    def __len__(self): \n",
    "        return len(self._villages)\n",
    "#     def __iter__(self): # python says, give me an iterator\n",
    "#         return VillageIterator(self)\n",
    "    def __getitem__(self,s): # Sequence Protocol\n",
    "        return self._villages[s]\n",
    "    "
   ]
  },
  {
   "cell_type": "code",
   "execution_count": 83,
   "metadata": {},
   "outputs": [],
   "source": [
    "v = Villages()"
   ]
  },
  {
   "cell_type": "code",
   "execution_count": 76,
   "metadata": {},
   "outputs": [
    {
     "name": "stdout",
     "output_type": "stream",
     "text": [
      "I initialised and immunized the village iterator\n"
     ]
    }
   ],
   "source": [
    "v_iter = iter(v)"
   ]
  },
  {
   "cell_type": "code",
   "execution_count": 77,
   "metadata": {},
   "outputs": [],
   "source": [
    "s = {2, 8, 81}"
   ]
  },
  {
   "cell_type": "code",
   "execution_count": 78,
   "metadata": {},
   "outputs": [
    {
     "data": {
      "text/plain": [
       "<set_iterator at 0x7f89ecb95798>"
      ]
     },
     "execution_count": 78,
     "metadata": {},
     "output_type": "execute_result"
    }
   ],
   "source": [
    "iter(s)"
   ]
  },
  {
   "cell_type": "code",
   "execution_count": 79,
   "metadata": {},
   "outputs": [
    {
     "name": "stdout",
     "output_type": "stream",
     "text": [
      "I initialised and immunized the village iterator\n"
     ]
    },
    {
     "data": {
      "text/plain": [
       "<__main__.VillageIterator at 0x7f89ecb9ae10>"
      ]
     },
     "execution_count": 79,
     "metadata": {},
     "output_type": "execute_result"
    }
   ],
   "source": [
    "iter(v)"
   ]
  },
  {
   "cell_type": "code",
   "execution_count": 80,
   "metadata": {},
   "outputs": [
    {
     "name": "stdout",
     "output_type": "stream",
     "text": [
      "8\n",
      "81\n",
      "2\n"
     ]
    }
   ],
   "source": [
    "for x in iter(s):\n",
    "    print(x)"
   ]
  },
  {
   "cell_type": "code",
   "execution_count": 81,
   "metadata": {},
   "outputs": [],
   "source": [
    "# iterators are consumed\n",
    "# iterables are not consumed, because they return a new iterator everytime"
   ]
  },
  {
   "cell_type": "code",
   "execution_count": 98,
   "metadata": {},
   "outputs": [],
   "source": [
    "v = Villages()"
   ]
  },
  {
   "cell_type": "code",
   "execution_count": 99,
   "metadata": {},
   "outputs": [
    {
     "name": "stdout",
     "output_type": "stream",
     "text": [
      "nansana\n",
      "buikwe\n",
      "nakinyuguzi\n"
     ]
    }
   ],
   "source": [
    "for x in v: # python prefers to use iterator protocol to sequence protocol\n",
    "    print(x)"
   ]
  },
  {
   "cell_type": "code",
   "execution_count": 100,
   "metadata": {},
   "outputs": [],
   "source": [
    "# if __iter_ is not defined, python will look for __getitem__"
   ]
  },
  {
   "cell_type": "code",
   "execution_count": 106,
   "metadata": {},
   "outputs": [],
   "source": [
    "l = [3, 4, 5]\n",
    "l_itr = iter(l)"
   ]
  },
  {
   "cell_type": "code",
   "execution_count": 103,
   "metadata": {},
   "outputs": [
    {
     "name": "stdout",
     "output_type": "stream",
     "text": [
      "3\n",
      "4\n",
      "5\n"
     ]
    }
   ],
   "source": [
    "for i in l_itr:\n",
    "    print(i)"
   ]
  },
  {
   "cell_type": "code",
   "execution_count": 115,
   "metadata": {},
   "outputs": [
    {
     "data": {
      "text/plain": [
       "3"
      ]
     },
     "execution_count": 115,
     "metadata": {},
     "output_type": "execute_result"
    }
   ],
   "source": [
    "next(iter(l))"
   ]
  },
  {
   "cell_type": "code",
   "execution_count": 110,
   "metadata": {},
   "outputs": [
    {
     "ename": "StopIteration",
     "evalue": "",
     "output_type": "error",
     "traceback": [
      "\u001b[0;31m---------------------------------------------------------------------------\u001b[0m",
      "\u001b[0;31mStopIteration\u001b[0m                             Traceback (most recent call last)",
      "\u001b[0;32m<ipython-input-110-a7ad5ee0aa6d>\u001b[0m in \u001b[0;36m<module>\u001b[0;34m()\u001b[0m\n\u001b[0;32m----> 1\u001b[0;31m \u001b[0mnext\u001b[0m\u001b[0;34m(\u001b[0m\u001b[0ml_itr\u001b[0m\u001b[0;34m)\u001b[0m\u001b[0;34m\u001b[0m\u001b[0;34m\u001b[0m\u001b[0m\n\u001b[0m",
      "\u001b[0;31mStopIteration\u001b[0m: "
     ]
    }
   ],
   "source": [
    "next(l_itr)"
   ]
  },
  {
   "cell_type": "code",
   "execution_count": null,
   "metadata": {},
   "outputs": [],
   "source": []
  },
  {
   "cell_type": "code",
   "execution_count": null,
   "metadata": {},
   "outputs": [],
   "source": []
  }
 ],
 "metadata": {
  "kernelspec": {
   "display_name": "Python 3",
   "language": "python",
   "name": "python3"
  },
  "language_info": {
   "codemirror_mode": {
    "name": "ipython",
    "version": 3
   },
   "file_extension": ".py",
   "mimetype": "text/x-python",
   "name": "python",
   "nbconvert_exporter": "python",
   "pygments_lexer": "ipython3",
   "version": "3.7.3"
  }
 },
 "nbformat": 4,
 "nbformat_minor": 2
}
