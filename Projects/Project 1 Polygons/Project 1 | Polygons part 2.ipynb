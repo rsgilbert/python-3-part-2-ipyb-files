{
 "cells": [
  {
   "cell_type": "code",
   "execution_count": 1,
   "metadata": {},
   "outputs": [],
   "source": [
    "# Project 1 | Polygons part 2"
   ]
  },
  {
   "cell_type": "code",
   "execution_count": 2,
   "metadata": {},
   "outputs": [],
   "source": [
    "from functools import total_ordering\n",
    "@total_ordering\n",
    "class Polygon:\n",
    "    def __init__(self, edge, circumradius):\n",
    "        self.edge = edge\n",
    "        self.circumradius = circumradius\n",
    "    \n",
    "    @property\n",
    "    def edge(self):\n",
    "        return self._edge\n",
    "    \n",
    "    @edge.setter\n",
    "    def edge(self, edge):\n",
    "        if edge < 3:\n",
    "            raise ValueError(\"The number of edges should be greater than or equal to 3\")\n",
    "        elif edge >= 3:\n",
    "            self._edge = edge\n",
    "        else:\n",
    "            raise TypeError(\"Invalid number of edge\")\n",
    "    \n",
    "    @property\n",
    "    def circumradius(self):\n",
    "        return self._circumradius\n",
    "    \n",
    "    @circumradius.setter\n",
    "    def circumradius(self, circumradius):\n",
    "        import numbers\n",
    "        if  isinstance(circumradius, numbers.Real) and circumradius > 0:\n",
    "            self._circumradius = circumradius\n",
    "        else:\n",
    "            raise ValueError(\"Invalid value for circumradius, must be a real number greater than zero\")\n",
    "     \n",
    "    # properties\n",
    "    @property\n",
    "    def vertices(self):\n",
    "        return self.edge\n",
    "    \n",
    "    @property\n",
    "    def interior_angle(self):\n",
    "        return 180 * (self.edge - 2) / self.edge\n",
    "    \n",
    "    @property\n",
    "    def edge_length(self):\n",
    "        from math import sin, pi\n",
    "        return 2 * self.circumradius * sin(pi / self.edge)\n",
    "    \n",
    "    @property\n",
    "    def apothem(self):\n",
    "        from math import cos, pi\n",
    "        return self.circumradius * cos(pi / self.edge)\n",
    "    \n",
    "    @property\n",
    "    def area(self):\n",
    "        return 0.5 * self.edge * self.edge_length * self.apothem\n",
    "    \n",
    "    @property\n",
    "    def perimeter(self):\n",
    "        return self.edge * self.edge_length\n",
    "    \n",
    "    # functionalities\n",
    "    def __repr__(self):\n",
    "        return f'Polygon(edge={self.edge}, R={self.circumradius})'\n",
    "    def __eq__(self, other):\n",
    "        if isinstance(other, Polygon):\n",
    "            return self.vertices == other.vertices and \\\n",
    "                    self.edge_length == other.edge_length\n",
    "        else:\n",
    "            raise TypeError(f\"Cannot compare Polygon with {type(other)}\")\n",
    "    def __gt__(self, other):\n",
    "        if isinstance(other, Polygon):\n",
    "            return self.vertices > other.vertices\n",
    "        else:\n",
    "            raise TypeError(f\"Cannot compare Polygon with {type(other)}\")"
   ]
  },
  {
   "cell_type": "code",
   "execution_count": 32,
   "metadata": {},
   "outputs": [],
   "source": [
    "class Polygons:\n",
    "    def __init__(self, vertices, R):\n",
    "        if vertices < 3:\n",
    "            raise ValueError(\"Vertices must be greater than or equal to 3\")\n",
    "        self.vertices = vertices # number of vertices\n",
    "        self.R = R # common circumradius\n",
    "        self._polygons = [Polygon(v, R) for v in range(3, self.vertices + 1)]\n",
    "    \n",
    "    def __repr__(self):\n",
    "#         return f'Polygons({self._polygons})'\n",
    "        return f'Polygons(vertices={self.vertices}, R={self.R})'\n",
    "    \n",
    "    @property\n",
    "    def max_eff_polygon(self):\n",
    "        from functools import reduce\n",
    "        smallest_area_to_peri = sorted(self._polygons, \n",
    "                                       key=lambda x: (x.area / x.perimeter), \n",
    "                                       reverse=True)[0]\n",
    "        return smallest_area_to_peri\n",
    "    \n",
    "    # functionalities\n",
    "    def __len__(self):\n",
    "        return len(self._polygons)\n",
    "    def __getitem__(self, s):\n",
    "        return self._polygons[s]"
   ]
  },
  {
   "cell_type": "code",
   "execution_count": 34,
   "metadata": {},
   "outputs": [],
   "source": [
    "p1 = Polygons(5, 3)"
   ]
  },
  {
   "cell_type": "code",
   "execution_count": 35,
   "metadata": {},
   "outputs": [
    {
     "data": {
      "text/plain": [
       "Polygons(vertices=5, R=3)"
      ]
     },
     "execution_count": 35,
     "metadata": {},
     "output_type": "execute_result"
    }
   ],
   "source": [
    "p1"
   ]
  },
  {
   "cell_type": "code",
   "execution_count": 27,
   "metadata": {},
   "outputs": [
    {
     "data": {
      "text/plain": [
       "Polygon(edge=3, R=3)"
      ]
     },
     "execution_count": 27,
     "metadata": {},
     "output_type": "execute_result"
    }
   ],
   "source": [
    "p1.max_eff_polygon"
   ]
  },
  {
   "cell_type": "code",
   "execution_count": 28,
   "metadata": {},
   "outputs": [
    {
     "data": {
      "text/plain": [
       "[0.7500000000000002, 1.0606601717798214, 1.2135254915624212]"
      ]
     },
     "execution_count": 28,
     "metadata": {},
     "output_type": "execute_result"
    }
   ],
   "source": [
    "[p.area / p.perimeter for p in p1]"
   ]
  },
  {
   "cell_type": "code",
   "execution_count": 29,
   "metadata": {},
   "outputs": [
    {
     "data": {
      "text/plain": [
       "Polygon(edge=4, R=3)"
      ]
     },
     "execution_count": 29,
     "metadata": {},
     "output_type": "execute_result"
    }
   ],
   "source": [
    "p1[1]"
   ]
  },
  {
   "cell_type": "code",
   "execution_count": 30,
   "metadata": {},
   "outputs": [
    {
     "data": {
      "text/plain": [
       "[Polygon(edge=3, R=3), Polygon(edge=4, R=3)]"
      ]
     },
     "execution_count": 30,
     "metadata": {},
     "output_type": "execute_result"
    }
   ],
   "source": [
    "p1[0:2]"
   ]
  },
  {
   "cell_type": "code",
   "execution_count": null,
   "metadata": {},
   "outputs": [],
   "source": []
  },
  {
   "cell_type": "code",
   "execution_count": null,
   "metadata": {},
   "outputs": [],
   "source": []
  }
 ],
 "metadata": {
  "kernelspec": {
   "display_name": "Python 3",
   "language": "python",
   "name": "python3"
  },
  "language_info": {
   "codemirror_mode": {
    "name": "ipython",
    "version": 3
   },
   "file_extension": ".py",
   "mimetype": "text/x-python",
   "name": "python",
   "nbconvert_exporter": "python",
   "pygments_lexer": "ipython3",
   "version": "3.7.3"
  }
 },
 "nbformat": 4,
 "nbformat_minor": 2
}
