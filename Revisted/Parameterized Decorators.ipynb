{
 "cells": [
  {
   "cell_type": "code",
   "execution_count": 1,
   "metadata": {},
   "outputs": [],
   "source": [
    "# Parameterized Decorators"
   ]
  },
  {
   "cell_type": "code",
   "execution_count": 18,
   "metadata": {},
   "outputs": [],
   "source": [
    "def timed(fun):\n",
    "    from time import perf_counter\n",
    "    def inner (*args, **kwargs):\n",
    "        start = perf_counter()\n",
    "        result = fun(*args, **kwargs)\n",
    "        elapsed = perf_counter() - start\n",
    "        print(\"Run time is {:.4f}ms\".format(elapsed * 1000))\n",
    "        return result\n",
    "    return inner"
   ]
  },
  {
   "cell_type": "code",
   "execution_count": 19,
   "metadata": {},
   "outputs": [],
   "source": [
    "def calc_list_product(xlist):\n",
    "    from functools import reduce\n",
    "    return reduce(lambda x, y: x * y, xlist)"
   ]
  },
  {
   "cell_type": "code",
   "execution_count": 20,
   "metadata": {},
   "outputs": [
    {
     "data": {
      "text/plain": [
       "60"
      ]
     },
     "execution_count": 20,
     "metadata": {},
     "output_type": "execute_result"
    }
   ],
   "source": [
    "calc_list_product([3,4,5])"
   ]
  },
  {
   "cell_type": "code",
   "execution_count": 21,
   "metadata": {},
   "outputs": [
    {
     "name": "stdout",
     "output_type": "stream",
     "text": [
      "Run time is 0.0117ms\n"
     ]
    },
    {
     "data": {
      "text/plain": [
       "24"
      ]
     },
     "execution_count": 21,
     "metadata": {},
     "output_type": "execute_result"
    }
   ],
   "source": [
    "li = [3, 2, 4]\n",
    "calc_list_product = timed(calc_list_product)\n",
    "calc_list_product(li)"
   ]
  },
  {
   "cell_type": "code",
   "execution_count": 19,
   "metadata": {},
   "outputs": [],
   "source": [
    "def timed(fun):\n",
    "    from time import perf_counter\n",
    "    def inner (*args, **kwargs):\n",
    "        elapsed = 0\n",
    "        for i in range(5): # repetition = 5 is hardcoded\n",
    "            start = perf_counter()\n",
    "            result = fun(*args, **kwargs)\n",
    "            elapsed = ((perf_counter() - start) + elapsed * i  ) / (i + 1)\n",
    "        print(\"Run time is {:.4f}ms\".format(elapsed * 1000))\n",
    "        return result\n",
    "    return inner"
   ]
  },
  {
   "cell_type": "code",
   "execution_count": 20,
   "metadata": {},
   "outputs": [],
   "source": [
    "@timed\n",
    "def calc_list_product(xlist):\n",
    "    from functools import reduce\n",
    "    return reduce(lambda x, y: x * y, xlist)"
   ]
  },
  {
   "cell_type": "code",
   "execution_count": 21,
   "metadata": {},
   "outputs": [
    {
     "name": "stdout",
     "output_type": "stream",
     "text": [
      "Run time is 0.0037ms\n"
     ]
    },
    {
     "data": {
      "text/plain": [
       "24"
      ]
     },
     "execution_count": 21,
     "metadata": {},
     "output_type": "execute_result"
    }
   ],
   "source": [
    "calc_list_product(li)"
   ]
  },
  {
   "cell_type": "code",
   "execution_count": null,
   "metadata": {},
   "outputs": [],
   "source": [
    "# making repetitions a variable"
   ]
  },
  {
   "cell_type": "code",
   "execution_count": 22,
   "metadata": {},
   "outputs": [],
   "source": [
    "def timed(fun, rep):\n",
    "    from time import perf_counter\n",
    "    def inner (*args, **kwargs):\n",
    "        total_time = 0\n",
    "        for i in range(rep): # repetition = 5 is hardcoded\n",
    "            start = perf_counter()\n",
    "            result = fun(*args, **kwargs)\n",
    "            total_time += (perf_counter() - start)\n",
    "        elapsed = total_time / rep\n",
    "        print(\"Run time is {0:.4f}ms, {1} repetitions\".format(elapsed * 1000, rep))\n",
    "        return result\n",
    "    return inner"
   ]
  },
  {
   "cell_type": "code",
   "execution_count": 23,
   "metadata": {},
   "outputs": [],
   "source": [
    "calc_list_product = timed(calc_list_product, 3) # you cant use @ syntax"
   ]
  },
  {
   "cell_type": "code",
   "execution_count": 24,
   "metadata": {},
   "outputs": [
    {
     "name": "stdout",
     "output_type": "stream",
     "text": [
      "Run time is 0.0038ms\n",
      "Run time is 0.0055ms\n",
      "Run time is 0.0029ms\n",
      "Run time is 0.0874ms, 3 repetitions\n"
     ]
    },
    {
     "data": {
      "text/plain": [
       "24"
      ]
     },
     "execution_count": 24,
     "metadata": {},
     "output_type": "execute_result"
    }
   ],
   "source": [
    "calc_list_product(li)"
   ]
  },
  {
   "cell_type": "code",
   "execution_count": 28,
   "metadata": {},
   "outputs": [],
   "source": [
    "# decorator factory\n",
    "# This is a function that returns a decorator"
   ]
  },
  {
   "cell_type": "code",
   "execution_count": 29,
   "metadata": {},
   "outputs": [],
   "source": [
    "def dec(fn):\n",
    "    print(\"running dec\")\n",
    "    \n",
    "    def inner(*args):\n",
    "        print(\"running inner\")\n",
    "        return(fn(*args))\n",
    "    return inner"
   ]
  },
  {
   "cell_type": "code",
   "execution_count": 40,
   "metadata": {},
   "outputs": [
    {
     "name": "stdout",
     "output_type": "stream",
     "text": [
      "running dec\n"
     ]
    }
   ],
   "source": [
    "@dec # calls dec\n",
    "def fun():\n",
    "    print(\"Running fun()\")"
   ]
  },
  {
   "cell_type": "code",
   "execution_count": 42,
   "metadata": {},
   "outputs": [
    {
     "name": "stdout",
     "output_type": "stream",
     "text": [
      "running dec\n"
     ]
    }
   ],
   "source": [
    "fun = dec(fun)\n",
    "# if you call this code again, it will print running dec twice when you call fun()"
   ]
  },
  {
   "cell_type": "code",
   "execution_count": 43,
   "metadata": {},
   "outputs": [
    {
     "name": "stdout",
     "output_type": "stream",
     "text": [
      "running inner\n",
      "running inner\n",
      "Running fun()\n"
     ]
    }
   ],
   "source": [
    "fun()"
   ]
  },
  {
   "cell_type": "code",
   "execution_count": 50,
   "metadata": {},
   "outputs": [],
   "source": [
    "def dec_factory(): # creates and returns the decorator that we want\n",
    "    def dec(fn):\n",
    "        print(\"running dec\")\n",
    "\n",
    "        def inner(*args):\n",
    "            print(\"running inner\")\n",
    "            return(fn(*args))\n",
    "        return inner\n",
    "    return dec"
   ]
  },
  {
   "cell_type": "code",
   "execution_count": 49,
   "metadata": {},
   "outputs": [],
   "source": [
    "dec = dec_factory()"
   ]
  },
  {
   "cell_type": "code",
   "execution_count": 51,
   "metadata": {},
   "outputs": [],
   "source": [
    "def my_fun():\n",
    "    print(\"HI, i am your function\")"
   ]
  },
  {
   "cell_type": "code",
   "execution_count": 52,
   "metadata": {},
   "outputs": [
    {
     "name": "stdout",
     "output_type": "stream",
     "text": [
      "running dec\n"
     ]
    }
   ],
   "source": [
    "my_fun = dec(my_fun)"
   ]
  },
  {
   "cell_type": "code",
   "execution_count": 53,
   "metadata": {},
   "outputs": [
    {
     "name": "stdout",
     "output_type": "stream",
     "text": [
      "running dec\n"
     ]
    }
   ],
   "source": [
    "@dec # no function call, since dec is the decorator\n",
    "def my_fun():\n",
    "    print(\"HI, i am your function\")"
   ]
  },
  {
   "cell_type": "code",
   "execution_count": 54,
   "metadata": {},
   "outputs": [
    {
     "name": "stdout",
     "output_type": "stream",
     "text": [
      "running dec\n"
     ]
    }
   ],
   "source": [
    "@dec_factory() # function call present, (), since dec_factory itself is not the decorator but returns the decorator\n",
    "def my_fun():\n",
    "    print(\"HI, i am your function\")"
   ]
  },
  {
   "cell_type": "code",
   "execution_count": 55,
   "metadata": {},
   "outputs": [
    {
     "name": "stdout",
     "output_type": "stream",
     "text": [
      "running inner\n",
      "HI, i am your function\n"
     ]
    }
   ],
   "source": [
    "my_fun()"
   ]
  },
  {
   "cell_type": "code",
   "execution_count": 56,
   "metadata": {},
   "outputs": [
    {
     "name": "stdout",
     "output_type": "stream",
     "text": [
      "running dec\n"
     ]
    }
   ],
   "source": [
    "my_fun = dec_factory()(my_fun)"
   ]
  },
  {
   "cell_type": "code",
   "execution_count": 57,
   "metadata": {},
   "outputs": [
    {
     "name": "stdout",
     "output_type": "stream",
     "text": [
      "running inner\n",
      "running inner\n",
      "HI, i am your function\n"
     ]
    }
   ],
   "source": [
    "my_fun()"
   ]
  },
  {
   "cell_type": "code",
   "execution_count": 58,
   "metadata": {},
   "outputs": [],
   "source": [
    "def dec_factory(par_1, par_2): # you put parameters here\n",
    "    def dec(fn):\n",
    "        print(\"running dec\")\n",
    "        def inner(*args):\n",
    "            print(\"Parameters, we have, {0} and {1}\".format(par_1, par_2))\n",
    "            return(fn(*args))\n",
    "        return inner\n",
    "    return dec"
   ]
  },
  {
   "cell_type": "code",
   "execution_count": 59,
   "metadata": {},
   "outputs": [],
   "source": [
    "dec = dec_factory(10, 20)"
   ]
  },
  {
   "cell_type": "code",
   "execution_count": 60,
   "metadata": {},
   "outputs": [
    {
     "name": "stdout",
     "output_type": "stream",
     "text": [
      "running dec\n"
     ]
    }
   ],
   "source": [
    "@dec # arguments already put\n",
    "def my_fun():\n",
    "    print(\"HI, i am your function\")"
   ]
  },
  {
   "cell_type": "code",
   "execution_count": 61,
   "metadata": {},
   "outputs": [
    {
     "name": "stdout",
     "output_type": "stream",
     "text": [
      "Parameters, we have, 10 and 20\n",
      "HI, i am your function\n"
     ]
    }
   ],
   "source": [
    "my_fun()"
   ]
  },
  {
   "cell_type": "code",
   "execution_count": 63,
   "metadata": {},
   "outputs": [
    {
     "name": "stdout",
     "output_type": "stream",
     "text": [
      "running dec\n"
     ]
    }
   ],
   "source": [
    "@dec_factory(100, 200) # parameters passed from here\n",
    "def my_fun():\n",
    "    print(\"HI, i am your function\")"
   ]
  },
  {
   "cell_type": "code",
   "execution_count": 64,
   "metadata": {},
   "outputs": [
    {
     "name": "stdout",
     "output_type": "stream",
     "text": [
      "Parameters, we have, 100 and 200\n",
      "HI, i am your function\n"
     ]
    }
   ],
   "source": [
    "my_fun()"
   ]
  },
  {
   "cell_type": "code",
   "execution_count": 65,
   "metadata": {},
   "outputs": [
    {
     "name": "stdout",
     "output_type": "stream",
     "text": [
      "running dec\n"
     ]
    }
   ],
   "source": [
    "my_fun = dec_factory('a', 'b')(my_fun)"
   ]
  },
  {
   "cell_type": "code",
   "execution_count": 66,
   "metadata": {},
   "outputs": [
    {
     "name": "stdout",
     "output_type": "stream",
     "text": [
      "Parameters, we have, a and b\n",
      "Parameters, we have, 100 and 200\n",
      "HI, i am your function\n"
     ]
    }
   ],
   "source": [
    "my_fun()"
   ]
  },
  {
   "cell_type": "code",
   "execution_count": 68,
   "metadata": {},
   "outputs": [],
   "source": [
    "# to create parameterized decorators, we do it not by modifying parameters\n",
    "# to the decorator, but by creating a decorator function, an outer function\n",
    "# that encompases and returns our decorator, but because of closures we can pass \n",
    "# the outer parameters to the decorator itself"
   ]
  },
  {
   "cell_type": "code",
   "execution_count": 85,
   "metadata": {},
   "outputs": [],
   "source": [
    "def dec_factory(rep):\n",
    "    def timed(fun):\n",
    "        from time import perf_counter\n",
    "        from functools import wraps\n",
    "        @wraps(fun) # wraps here is also a decorator factory\n",
    "        def inner (*args, **kwargs):\n",
    "            elapsed = 0\n",
    "            for i in range(rep): # repetition = 5 is hardcoded\n",
    "                start = perf_counter()\n",
    "                result = fun(*args, **kwargs)\n",
    "                elapsed = ((perf_counter() - start) + elapsed * i  ) / (i + 1)\n",
    "            print(\"Run time is {0:.4f}ms, {1} ran {2} times\".format(elapsed * 1000, fun.__name__, rep))\n",
    "            return result\n",
    "        return inner\n",
    "    return timed\n"
   ]
  },
  {
   "cell_type": "code",
   "execution_count": 76,
   "metadata": {},
   "outputs": [],
   "source": [
    "@dec_factory(8)\n",
    "def prin():\n",
    "    pass"
   ]
  },
  {
   "cell_type": "code",
   "execution_count": 77,
   "metadata": {},
   "outputs": [
    {
     "name": "stdout",
     "output_type": "stream",
     "text": [
      "Run time is 0.0003ms, prin ran 8 times\n"
     ]
    }
   ],
   "source": [
    "prin()"
   ]
  },
  {
   "cell_type": "code",
   "execution_count": 87,
   "metadata": {},
   "outputs": [],
   "source": [
    "# rename dec_factory to timed\n",
    "def timed(rep):\n",
    "    def dec(fun):\n",
    "        from time import perf_counter\n",
    "        from functools import wraps\n",
    "        @wraps(fun) # wraps here is also a decorator factory\n",
    "        def inner (*args, **kwargs):\n",
    "            elapsed = 0\n",
    "            for i in range(rep): # repetition = 5 is hardcoded\n",
    "                start = perf_counter()\n",
    "                result = fun(*args, **kwargs)\n",
    "                elapsed = ((perf_counter() - start) + elapsed * i  ) / (i + 1)\n",
    "            print(\"Run time is {0:.4f}ms, {1} ran {2} times\".format(elapsed * 1000, fun.__name__, rep))\n",
    "            return result\n",
    "        return inner\n",
    "    return dec\n",
    "\n"
   ]
  },
  {
   "cell_type": "code",
   "execution_count": 88,
   "metadata": {},
   "outputs": [
    {
     "data": {
      "text/plain": [
       "function"
      ]
     },
     "execution_count": 88,
     "metadata": {},
     "output_type": "execute_result"
    }
   ],
   "source": [
    "type(dec_factory)"
   ]
  },
  {
   "cell_type": "code",
   "execution_count": 89,
   "metadata": {},
   "outputs": [
    {
     "data": {
      "text/plain": [
       "function"
      ]
     },
     "execution_count": 89,
     "metadata": {},
     "output_type": "execute_result"
    }
   ],
   "source": [
    "type(dec)"
   ]
  },
  {
   "cell_type": "code",
   "execution_count": 90,
   "metadata": {},
   "outputs": [
    {
     "data": {
      "text/plain": [
       "function"
      ]
     },
     "execution_count": 90,
     "metadata": {},
     "output_type": "execute_result"
    }
   ],
   "source": [
    "type(timed)"
   ]
  },
  {
   "cell_type": "code",
   "execution_count": 91,
   "metadata": {},
   "outputs": [],
   "source": [
    "timed.__closure__"
   ]
  },
  {
   "cell_type": "code",
   "execution_count": 92,
   "metadata": {},
   "outputs": [
    {
     "data": {
      "text/plain": [
       "(<cell at 0x7f5dac5f34c8: int object at 0x8a8a00>,\n",
       " <cell at 0x7f5dac5f3f48: int object at 0x8a8b40>)"
      ]
     },
     "execution_count": 92,
     "metadata": {},
     "output_type": "execute_result"
    }
   ],
   "source": [
    "dec.__closure__ # dec is a decorator"
   ]
  },
  {
   "cell_type": "code",
   "execution_count": 93,
   "metadata": {},
   "outputs": [],
   "source": [
    "dec_factory.__closure__"
   ]
  },
  {
   "cell_type": "code",
   "execution_count": 94,
   "metadata": {},
   "outputs": [],
   "source": [
    "@timed(2)\n",
    "def calc_list_product(xlist):\n",
    "    from functools import reduce\n",
    "    return reduce(lambda x, y: x * y, xlist)"
   ]
  },
  {
   "cell_type": "code",
   "execution_count": 95,
   "metadata": {},
   "outputs": [
    {
     "name": "stdout",
     "output_type": "stream",
     "text": [
      "Run time is 0.0072ms, calc_list_product ran 2 times\n"
     ]
    },
    {
     "data": {
      "text/plain": [
       "48"
      ]
     },
     "execution_count": 95,
     "metadata": {},
     "output_type": "execute_result"
    }
   ],
   "source": [
    "calc_list_product([2, 3, 1, 2, 4])"
   ]
  },
  {
   "cell_type": "code",
   "execution_count": null,
   "metadata": {},
   "outputs": [],
   "source": []
  },
  {
   "cell_type": "code",
   "execution_count": null,
   "metadata": {},
   "outputs": [],
   "source": []
  },
  {
   "cell_type": "code",
   "execution_count": null,
   "metadata": {},
   "outputs": [],
   "source": []
  },
  {
   "cell_type": "code",
   "execution_count": null,
   "metadata": {},
   "outputs": [],
   "source": []
  },
  {
   "cell_type": "code",
   "execution_count": null,
   "metadata": {},
   "outputs": [],
   "source": []
  }
 ],
 "metadata": {
  "kernelspec": {
   "display_name": "Python 3",
   "language": "python",
   "name": "python3"
  },
  "language_info": {
   "codemirror_mode": {
    "name": "ipython",
    "version": 3
   },
   "file_extension": ".py",
   "mimetype": "text/x-python",
   "name": "python",
   "nbconvert_exporter": "python",
   "pygments_lexer": "ipython3",
   "version": "3.7.3"
  }
 },
 "nbformat": 4,
 "nbformat_minor": 2
}
